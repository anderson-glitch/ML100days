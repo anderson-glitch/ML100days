{
 "cells": [
  {
   "cell_type": "code",
   "execution_count": 3,
   "metadata": {},
   "outputs": [],
   "source": [
    "#如果拒絕域改變時，α 和 β 會怎樣變化。"
   ]
  },
  {
   "cell_type": "code",
   "execution_count": 6,
   "metadata": {},
   "outputs": [
    {
     "name": "stdout",
     "output_type": "stream",
     "text": [
      "\n",
      "α 會變小、β 會變大\n",
      "\n"
     ]
    }
   ],
   "source": [
    "#1.   假設 x̄ > 2，拒絕 H0，α 會變大／變小？β 會變大／變小？\n",
    "print('\\nα 會變小、β 會變大\\n')"
   ]
  },
  {
   "cell_type": "code",
   "execution_count": 7,
   "metadata": {},
   "outputs": [
    {
     "name": "stdout",
     "output_type": "stream",
     "text": [
      "\n",
      "α 會變大、β 會變小\n",
      "\n"
     ]
    }
   ],
   "source": [
    "#2.   假設 x̄ > 0.2，拒絕 Ho，會變大／變小？β 會變大/變小？\n",
    "print('\\nα 會變大、β 會變小\\n')"
   ]
  },
  {
   "cell_type": "code",
   "execution_count": 8,
   "metadata": {},
   "outputs": [
    {
     "name": "stdout",
     "output_type": "stream",
     "text": [
      "\n",
      "有\n",
      "\n"
     ]
    }
   ],
   "source": [
    "#3.   α 和 β 有關聯性？\n",
    "print('\\n有\\n')"
   ]
  }
 ],
 "metadata": {
  "kernelspec": {
   "display_name": "Python 3",
   "language": "python",
   "name": "python3"
  },
  "language_info": {
   "codemirror_mode": {
    "name": "ipython",
    "version": 3
   },
   "file_extension": ".py",
   "mimetype": "text/x-python",
   "name": "python",
   "nbconvert_exporter": "python",
   "pygments_lexer": "ipython3",
   "version": "3.8.5"
  }
 },
 "nbformat": 4,
 "nbformat_minor": 4
}
