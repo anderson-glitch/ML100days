{
 "cells": [
  {
   "cell_type": "code",
   "execution_count": 1,
   "metadata": {},
   "outputs": [],
   "source": [
    "import matplotlib.pyplot as plt\n",
    "import numpy as np\n",
    "import pandas as pd\n",
    "from scipy import stats\n",
    "import math\n",
    "import statistics"
   ]
  },
  {
   "cell_type": "code",
   "execution_count": 3,
   "metadata": {},
   "outputs": [],
   "source": [
    "#Q1：大樂透的頭獎，你必須從49個挑選出 6 個號碼，且這六個號碼與頭獎的六個號碼一致，頭獎的機率是屬於哪一種分配？\n",
    "#A1 : 超幾何分布"
   ]
  },
  {
   "cell_type": "code",
   "execution_count": 7,
   "metadata": {},
   "outputs": [
    {
     "name": "stdout",
     "output_type": "stream",
     "text": [
      "[0 1 2 3 4 5 6]\n",
      "[4.35964976e-01 4.13019450e-01 1.32378029e-01 1.76504039e-02\n",
      " 9.68619724e-04 1.84498995e-05 7.15112384e-08]\n"
     ]
    }
   ],
   "source": [
    "#Q2：運用範例的 python 程式碼，計算大樂透的中頭獎機率？\n",
    "N=49\n",
    "K=6\n",
    "n=6\n",
    "r = np.arange(0, min(n+1,K+1))\n",
    "print(r)\n",
    "probs = stats.hypergeom.pmf(r, N,K,n)\n",
    "print(probs)"
   ]
  },
  {
   "cell_type": "code",
   "execution_count": 8,
   "metadata": {},
   "outputs": [],
   "source": [
    "#Q3：你覺得電腦簽注的中獎機率，和人腦簽注相比，哪一個機率高？\n",
    "#A3 : 電腦"
   ]
  }
 ],
 "metadata": {
  "kernelspec": {
   "display_name": "Python 3",
   "language": "python",
   "name": "python3"
  },
  "language_info": {
   "codemirror_mode": {
    "name": "ipython",
    "version": 3
   },
   "file_extension": ".py",
   "mimetype": "text/x-python",
   "name": "python",
   "nbconvert_exporter": "python",
   "pygments_lexer": "ipython3",
   "version": "3.8.5"
  }
 },
 "nbformat": 4,
 "nbformat_minor": 4
}
