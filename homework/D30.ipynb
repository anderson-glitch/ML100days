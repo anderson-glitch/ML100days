{
 "cells": [
  {
   "cell_type": "code",
   "execution_count": 7,
   "metadata": {},
   "outputs": [
    {
     "name": "stdout",
     "output_type": "stream",
     "text": [
      "\n",
      "研究人員想推翻第四台廣告業者的說法，所以\n",
      "H0: 吃減肥藥能在一個月內瘦\"不能\"超過十公斤(X<10)\n",
      "H1: 吃減肥藥能在一個月內瘦\"能\"超過十公斤(X>=10)\n",
      "\n"
     ]
    }
   ],
   "source": [
    "#Q1：吃減肥藥能在一個月內瘦超過十公斤，研究人員想推翻第四台廣告業者的說法，請試著寫出 H0 與 H1。\n",
    "\n",
    "print('\\n研究人員想推翻第四台廣告業者的說法，所以\\nH0: 吃減肥藥能在一個月內瘦\"不能\"超過十公斤(X<10)\\nH1: 吃減肥藥能在一個月內瘦\"能\"超過十公斤(X>=10)\\n')"
   ]
  },
  {
   "cell_type": "code",
   "execution_count": 8,
   "metadata": {},
   "outputs": [
    {
     "name": "stdout",
     "output_type": "stream",
     "text": [
      "\n",
      "一位速食店店長認為其品牌在市場之佔有率至多 12%，做實驗是想驗證這件事情，所以\n",
      "H0: 其品牌在市場之佔有率至多 12%(p<12%)\n",
      "H1: 其品牌在市場之佔有率超過 12%(p>=12%)\n",
      "\n"
     ]
    }
   ],
   "source": [
    "#Q2: 一位速食店店長認為其品牌在市場之佔有率至多為12%，於是該店長進行一個市場調查，一共訪問了3000為消費者，其中有311位表示喜歡該品牌，請試著寫出 H0 與 H1。 \n",
    "    \n",
    "print('\\n一位速食店店長認為其品牌在市場之佔有率至多 12%，做實驗是想驗證這件事情，所以\\nH0: 其品牌在市場之佔有率至多 12%(p<12%)\\nH1: 其品牌在市場之佔有率超過 12%(p>=12%)\\n')"
   ]
  }
 ],
 "metadata": {
  "kernelspec": {
   "display_name": "Python 3",
   "language": "python",
   "name": "python3"
  },
  "language_info": {
   "codemirror_mode": {
    "name": "ipython",
    "version": 3
   },
   "file_extension": ".py",
   "mimetype": "text/x-python",
   "name": "python",
   "nbconvert_exporter": "python",
   "pygments_lexer": "ipython3",
   "version": "3.8.5"
  }
 },
 "nbformat": 4,
 "nbformat_minor": 4
}
