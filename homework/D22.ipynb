{
 "cells": [
  {
   "cell_type": "code",
   "execution_count": 1,
   "metadata": {},
   "outputs": [],
   "source": [
    "import pandas as pd\n",
    "import numpy as np\n",
    "import seaborn as sns\n",
    "import matplotlib as mpl\n",
    "import matplotlib.pyplot as plt\n",
    "from mpl_toolkits.mplot3d import Axes3D"
   ]
  },
  {
   "cell_type": "code",
   "execution_count": null,
   "metadata": {},
   "outputs": [
    {
     "name": "stdout",
     "output_type": "stream",
     "text": [
      "<class 'pandas.core.frame.DataFrame'>\n",
      "Int64Index: 6497 entries, 0 to 4897\n",
      "Data columns (total 13 columns):\n",
      " #   Column                Non-Null Count  Dtype  \n",
      "---  ------                --------------  -----  \n",
      " 0   fixed_acidity         6497 non-null   float64\n",
      " 1   volatile_acidity      6497 non-null   float64\n",
      " 2   citric_acid           6497 non-null   float64\n",
      " 3   residual_sugar        6497 non-null   float64\n",
      " 4   chlorides             6497 non-null   float64\n",
      " 5   free_sulfur_dioxide   6497 non-null   float64\n",
      " 6   total_sulfur_dioxide  6497 non-null   float64\n",
      " 7   density               6497 non-null   float64\n",
      " 8   pH                    6497 non-null   float64\n",
      " 9   sulphates             6497 non-null   float64\n",
      " 10  alcohol               6497 non-null   float64\n",
      " 11  quality               6497 non-null   int64  \n",
      " 12  color                 6497 non-null   object \n",
      "dtypes: float64(11), int64(1), object(1)\n",
      "memory usage: 710.6+ KB\n"
     ]
    },
    {
     "name": "stderr",
     "output_type": "stream",
     "text": [
      "/Users/anderson/opt/anaconda3/lib/python3.8/site-packages/seaborn/_decorators.py:36: FutureWarning: Pass the following variables as keyword args: x, y. From version 0.12, the only valid positional argument will be `data`, and passing other arguments without an explicit keyword will result in an error or misinterpretation.\n",
      "  warnings.warn(\n",
      "/Users/anderson/opt/anaconda3/lib/python3.8/site-packages/seaborn/_decorators.py:36: FutureWarning: Pass the following variables as keyword args: x, y. From version 0.12, the only valid positional argument will be `data`, and passing other arguments without an explicit keyword will result in an error or misinterpretation.\n",
      "  warnings.warn(\n",
      "/Users/anderson/opt/anaconda3/lib/python3.8/site-packages/seaborn/_decorators.py:36: FutureWarning: Pass the following variables as keyword args: x, y. From version 0.12, the only valid positional argument will be `data`, and passing other arguments without an explicit keyword will result in an error or misinterpretation.\n",
      "  warnings.warn(\n",
      "/Users/anderson/opt/anaconda3/lib/python3.8/site-packages/seaborn/categorical.py:3762: UserWarning: catplot is a figure-level function and does not accept target axes. You may wish to try swarmplot\n",
      "  warnings.warn(msg, UserWarning)\n",
      "/Users/anderson/opt/anaconda3/lib/python3.8/site-packages/seaborn/categorical.py:1296: UserWarning: 56.9% of the points cannot be placed; you may want to decrease the size of the markers or use stripplot.\n",
      "  warnings.warn(msg, UserWarning)\n",
      "/Users/anderson/opt/anaconda3/lib/python3.8/site-packages/seaborn/categorical.py:1296: UserWarning: 92.0% of the points cannot be placed; you may want to decrease the size of the markers or use stripplot.\n",
      "  warnings.warn(msg, UserWarning)\n"
     ]
    }
   ],
   "source": [
    "df_red = pd.read_csv(\"winequality_red.csv\")\n",
    "df_white = pd.read_csv(\"winequality_white.csv\")\n",
    "df_red[\"color\"] = \"R\"\n",
    "df_white[\"color\"] = \"W\"\n",
    "df_all=pd.concat([df_red,df_white],axis=0)\n",
    "df_all.head()\n",
    "\n",
    "df_all.rename(columns={'fixed acidity': 'fixed_acidity','citric acid':'citric_acid',\n",
    "                       'volatile acidity':'volatile_acidity','residual sugar':'residual_sugar',\n",
    "                       'free sulfur dioxide':'free_sulfur_dioxide',\n",
    "                       'total sulfur dioxide':'total_sulfur_dioxide'}, inplace=True)\n",
    "df_all.head()\n",
    "df = pd.get_dummies(df_all, columns=[\"color\"])\n",
    "df_all.isnull().sum()\n",
    "df_all.info()\n",
    "df_all.describe()\n",
    "df_all.hist(bins=10, color='lightblue',edgecolor='blue',linewidth=1.0,\n",
    "          xlabelsize=8, ylabelsize=8, grid=False)    \n",
    "\n",
    "plt.tight_layout(rect=(0, 0, 1.2, 1.2))\n",
    "f, ax = plt.subplots(figsize=(10, 6))\n",
    "b = sns.heatmap(df_all.corr(), annot=True, linewidths=.05, ax=ax)\n",
    "f.subplots_adjust(top=0.93)\n",
    "bottom, top = ax.get_ylim()\n",
    "ax.set_ylim(bottom + 0.5, top - 0.5)\n",
    "title= f.suptitle('Correlation Heatmap for wine attributes', fontsize=12)\n",
    "a = sns.jointplot(\"fixed_acidity\",\"citric_acid\",data = df_all,kind ='reg', color = None)\n",
    "b = sns.jointplot(\"alcohol\", \"citric_acid\", data = df_all, kind = 'reg')\n",
    "c = sns.jointplot(\"volatile_acidity\", \"citric_acid\", data = df_all, kind = 'reg')\n",
    "f,ax = plt.subplots(figsize=(12, 4))\n",
    "p = sns.catplot(x=\"quality\", y=\"sulphates\", kind = 'swarm', data= df_all, palette= 'GnBu_d', ax=ax)\n",
    "sns.set(style=\"white\")\n",
    "g = sns.PairGrid(df_all, diag_sharey=False)\n",
    "g.map_upper(sns.scatterplot)\n",
    "g.map_lower(sns.kdeplot, colors=\"C0\")\n",
    "g.map_diag(sns.kdeplot, lw=2)"
   ]
  },
  {
   "cell_type": "code",
   "execution_count": null,
   "metadata": {},
   "outputs": [],
   "source": []
  }
 ],
 "metadata": {
  "kernelspec": {
   "display_name": "Python 3",
   "language": "python",
   "name": "python3"
  },
  "language_info": {
   "codemirror_mode": {
    "name": "ipython",
    "version": 3
   },
   "file_extension": ".py",
   "mimetype": "text/x-python",
   "name": "python",
   "nbconvert_exporter": "python",
   "pygments_lexer": "ipython3",
   "version": "3.8.5"
  }
 },
 "nbformat": 4,
 "nbformat_minor": 4
}
