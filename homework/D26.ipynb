{
 "cells": [
  {
   "cell_type": "code",
   "execution_count": 31,
   "metadata": {},
   "outputs": [],
   "source": [
    "#因為goolge表單無法使用，所以功課由交出jupyter notebook\n",
    "import matplotlib.pyplot as plt\n",
    "import numpy as np\n",
    "import pandas as pd\n",
    "from scipy import stats\n",
    "import math\n",
    "import statistics\n",
    "import seaborn as sns"
   ]
  },
  {
   "cell_type": "code",
   "execution_count": 32,
   "metadata": {},
   "outputs": [
    {
     "name": "stdout",
     "output_type": "stream",
     "text": [
      "girls averange is taller\n"
     ]
    }
   ],
   "source": [
    "boys=[164, 176, 169, 169, 165, 175, 159, 151, 144, 160, 183, 165, 156, 170,\n",
    " 164, 173, 165, 163, 177, 171]\n",
    "girls=[169,183,170,168,182,170,173,185,151,156,162,167,175,170,160]\n",
    "if np.mean(boys) > np.mean(girls):\n",
    "    print('boys averange is taller')\n",
    "elif np.mean(boys) < np.mean(girls):\n",
    "    print('girls averange is taller')\n",
    "else:\n",
    "    print('boys averange is as tall as girls')"
   ]
  },
  {
   "cell_type": "code",
   "execution_count": 33,
   "metadata": {},
   "outputs": [],
   "source": [
    "#Q1：試著用今天所教的內容，如何描述這兩組資料的樣態？\n",
    "#A1: 由平均數、眾數、中位數、全距、變異數、百分位數描述"
   ]
  },
  {
   "cell_type": "code",
   "execution_count": 34,
   "metadata": {},
   "outputs": [],
   "source": [
    "#Q2：請問男生和女生在平均身高上誰比較高？\n",
    "#A2:女生平均身高較高"
   ]
  },
  {
   "cell_type": "code",
   "execution_count": 35,
   "metadata": {},
   "outputs": [],
   "source": [
    "#Q3：請問第二題的答案和日常生活中觀察的一致嗎？如果不一致，你覺得原因可能為何？\n",
    "#A3:國小以下一致，以上不一致，而不一致的原因可能為抽樣方法的問題"
   ]
  }
 ],
 "metadata": {
  "kernelspec": {
   "display_name": "Python 3",
   "language": "python",
   "name": "python3"
  },
  "language_info": {
   "codemirror_mode": {
    "name": "ipython",
    "version": 3
   },
   "file_extension": ".py",
   "mimetype": "text/x-python",
   "name": "python",
   "nbconvert_exporter": "python",
   "pygments_lexer": "ipython3",
   "version": "3.8.5"
  }
 },
 "nbformat": 4,
 "nbformat_minor": 4
}
