{
 "cells": [
  {
   "cell_type": "code",
   "execution_count": 4,
   "metadata": {},
   "outputs": [
    {
     "data": {
      "text/plain": [
       "(4.834937784152282, 1.3318728439003627e-06)"
      ]
     },
     "execution_count": 4,
     "metadata": {},
     "output_type": "execute_result"
    }
   ],
   "source": [
    "#作業 1：用 A/B test 幫工廠做決定吧\n",
    "#某工廠想知道兩條不同的生產線的產品不良率是否有所不同，由兩條生產線中各抽取 300 個樣本，第一組有 75 個不良品，第二組有 30 個不良品，我們可以宣稱生產線所生產出的產品不良率不相同？(以0.05 為顯著水準)？\n",
    "p1 = 75/300\n",
    "p2 = 30/300\n",
    "H0 = p1 - p2 <= 0.05\n",
    "H1 = p1 - p2 > 0.05\n",
    "import statsmodels.stats.proportion\n",
    "A = [75, 30]\n",
    "B = [300, 300]\n",
    "statsmodels.stats.proportion.proportions_ztest(A, B, alternative='two-sided')"
   ]
  },
  {
   "cell_type": "code",
   "execution_count": 5,
   "metadata": {},
   "outputs": [],
   "source": [
    "#Ans1 : P > 0.05 : 可以宣稱生產線所生產出的產品不良率不相同"
   ]
  }
 ],
 "metadata": {
  "kernelspec": {
   "display_name": "Python 3",
   "language": "python",
   "name": "python3"
  },
  "language_info": {
   "codemirror_mode": {
    "name": "ipython",
    "version": 3
   },
   "file_extension": ".py",
   "mimetype": "text/x-python",
   "name": "python",
   "nbconvert_exporter": "python",
   "pygments_lexer": "ipython3",
   "version": "3.8.5"
  }
 },
 "nbformat": 4,
 "nbformat_minor": 4
}
