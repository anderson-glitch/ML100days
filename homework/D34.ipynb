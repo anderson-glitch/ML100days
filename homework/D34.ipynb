{
 "cells": [
  {
   "cell_type": "code",
   "execution_count": 2,
   "metadata": {},
   "outputs": [],
   "source": [
    "#今天課程中以一個案例，說明資料分析的流程與探索性分析，是否對於課程中一開始的問題，更有想法了？\n",
    "\n",
    "#1. 挑選 Mr./Ms. Right\n",
    "#2. 顧客下次會買哪些東西？\n",
    "#3. 半導體的良率預測？\n",
    "\n",
    "#Q1：哪一個問題不適合用資料科學解決？\n",
    "#Q2：以你的角度來分析，為什麼這樣的問題，較不適合用資料來解決？"
   ]
  },
  {
   "cell_type": "code",
   "execution_count": 6,
   "metadata": {},
   "outputs": [
    {
     "name": "stdout",
     "output_type": "stream",
     "text": [
      "\n",
      "A1 : 挑選 Mr./Ms. Right\n",
      "A2 : 挑選 Mr./Ms. Right這個問題較為主觀，且較少案例有多個data（一人有多次找到Mr./Ms. Right的經驗）可以進行分析，因此不僅難以設定 model 的參數，更缺乏training data 判別 function的好壞，最終導致無法準確解決問題。\n"
     ]
    }
   ],
   "source": [
    "print('\\nA1 : 挑選 Mr./Ms. Right\\nA2 : 挑選 Mr./Ms. Right這個問題較為主觀，且較少案例有多個data（一人有多次找到Mr./Ms. Right的經驗）可以進行分析，因此不僅難以設定 model 的參數，更缺乏training data 判別 function的好壞，最終導致無法準確解決問題。')"
   ]
  }
 ],
 "metadata": {
  "kernelspec": {
   "display_name": "Python 3",
   "language": "python",
   "name": "python3"
  },
  "language_info": {
   "codemirror_mode": {
    "name": "ipython",
    "version": 3
   },
   "file_extension": ".py",
   "mimetype": "text/x-python",
   "name": "python",
   "nbconvert_exporter": "python",
   "pygments_lexer": "ipython3",
   "version": "3.8.5"
  }
 },
 "nbformat": 4,
 "nbformat_minor": 4
}
